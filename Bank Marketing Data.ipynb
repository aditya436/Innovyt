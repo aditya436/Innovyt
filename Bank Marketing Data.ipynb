{
 "cells": [
  {
   "cell_type": "markdown",
   "metadata": {},
   "source": [
    "# Bank Marketing \n",
    "\n",
    "The data is related with direct marketing campaigns of a Portuguese banking institution. The marketing campaigns were based on phone calls. Often, more than one contact to the same client was required, in order to access if the product (bank term deposit) would be ('yes') or not ('no') subscribed. "
   ]
  },
  {
   "cell_type": "code",
   "execution_count": 71,
   "metadata": {
    "collapsed": true
   },
   "outputs": [],
   "source": [
    "# Load required packages for Data analysis\n",
    "%matplotlib inline\n",
    "import pandas as pd\n",
    "import matplotlib.pyplot as plt\n",
    "from sklearn.cross_validation import train_test_split\n",
    "from sklearn.preprocessing import LabelEncoder\n",
    "le = LabelEncoder()\n",
    "from sklearn.tree import DecisionTreeClassifier"
   ]
  },
  {
   "cell_type": "code",
   "execution_count": 29,
   "metadata": {
    "collapsed": false
   },
   "outputs": [],
   "source": [
    "main_data = pd.read_csv(\"bank-additional-full.csv\",sep=';')"
   ]
  },
  {
   "cell_type": "code",
   "execution_count": 30,
   "metadata": {
    "collapsed": false
   },
   "outputs": [
    {
     "name": "stdout",
     "output_type": "stream",
     "text": [
      "Number of columns: 21\n"
     ]
    }
   ],
   "source": [
    "print(\"Number of columns: {}\".format(len(main_data.columns)))"
   ]
  },
  {
   "cell_type": "code",
   "execution_count": 31,
   "metadata": {
    "collapsed": false
   },
   "outputs": [
    {
     "data": {
      "text/html": [
       "<div>\n",
       "<table border=\"1\" class=\"dataframe\">\n",
       "  <thead>\n",
       "    <tr style=\"text-align: right;\">\n",
       "      <th></th>\n",
       "      <th>age</th>\n",
       "      <th>job</th>\n",
       "      <th>marital</th>\n",
       "      <th>education</th>\n",
       "      <th>default</th>\n",
       "      <th>housing</th>\n",
       "      <th>loan</th>\n",
       "      <th>contact</th>\n",
       "      <th>month</th>\n",
       "      <th>day_of_week</th>\n",
       "      <th>...</th>\n",
       "      <th>campaign</th>\n",
       "      <th>pdays</th>\n",
       "      <th>previous</th>\n",
       "      <th>poutcome</th>\n",
       "      <th>emp.var.rate</th>\n",
       "      <th>cons.price.idx</th>\n",
       "      <th>cons.conf.idx</th>\n",
       "      <th>euribor3m</th>\n",
       "      <th>nr.employed</th>\n",
       "      <th>y</th>\n",
       "    </tr>\n",
       "  </thead>\n",
       "  <tbody>\n",
       "    <tr>\n",
       "      <th>0</th>\n",
       "      <td>56</td>\n",
       "      <td>housemaid</td>\n",
       "      <td>married</td>\n",
       "      <td>basic.4y</td>\n",
       "      <td>no</td>\n",
       "      <td>no</td>\n",
       "      <td>no</td>\n",
       "      <td>telephone</td>\n",
       "      <td>may</td>\n",
       "      <td>mon</td>\n",
       "      <td>...</td>\n",
       "      <td>1</td>\n",
       "      <td>999</td>\n",
       "      <td>0</td>\n",
       "      <td>nonexistent</td>\n",
       "      <td>1.1</td>\n",
       "      <td>93.994</td>\n",
       "      <td>-36.4</td>\n",
       "      <td>4.857</td>\n",
       "      <td>5191.0</td>\n",
       "      <td>no</td>\n",
       "    </tr>\n",
       "    <tr>\n",
       "      <th>1</th>\n",
       "      <td>57</td>\n",
       "      <td>services</td>\n",
       "      <td>married</td>\n",
       "      <td>high.school</td>\n",
       "      <td>unknown</td>\n",
       "      <td>no</td>\n",
       "      <td>no</td>\n",
       "      <td>telephone</td>\n",
       "      <td>may</td>\n",
       "      <td>mon</td>\n",
       "      <td>...</td>\n",
       "      <td>1</td>\n",
       "      <td>999</td>\n",
       "      <td>0</td>\n",
       "      <td>nonexistent</td>\n",
       "      <td>1.1</td>\n",
       "      <td>93.994</td>\n",
       "      <td>-36.4</td>\n",
       "      <td>4.857</td>\n",
       "      <td>5191.0</td>\n",
       "      <td>no</td>\n",
       "    </tr>\n",
       "    <tr>\n",
       "      <th>2</th>\n",
       "      <td>37</td>\n",
       "      <td>services</td>\n",
       "      <td>married</td>\n",
       "      <td>high.school</td>\n",
       "      <td>no</td>\n",
       "      <td>yes</td>\n",
       "      <td>no</td>\n",
       "      <td>telephone</td>\n",
       "      <td>may</td>\n",
       "      <td>mon</td>\n",
       "      <td>...</td>\n",
       "      <td>1</td>\n",
       "      <td>999</td>\n",
       "      <td>0</td>\n",
       "      <td>nonexistent</td>\n",
       "      <td>1.1</td>\n",
       "      <td>93.994</td>\n",
       "      <td>-36.4</td>\n",
       "      <td>4.857</td>\n",
       "      <td>5191.0</td>\n",
       "      <td>no</td>\n",
       "    </tr>\n",
       "    <tr>\n",
       "      <th>3</th>\n",
       "      <td>40</td>\n",
       "      <td>admin.</td>\n",
       "      <td>married</td>\n",
       "      <td>basic.6y</td>\n",
       "      <td>no</td>\n",
       "      <td>no</td>\n",
       "      <td>no</td>\n",
       "      <td>telephone</td>\n",
       "      <td>may</td>\n",
       "      <td>mon</td>\n",
       "      <td>...</td>\n",
       "      <td>1</td>\n",
       "      <td>999</td>\n",
       "      <td>0</td>\n",
       "      <td>nonexistent</td>\n",
       "      <td>1.1</td>\n",
       "      <td>93.994</td>\n",
       "      <td>-36.4</td>\n",
       "      <td>4.857</td>\n",
       "      <td>5191.0</td>\n",
       "      <td>no</td>\n",
       "    </tr>\n",
       "    <tr>\n",
       "      <th>4</th>\n",
       "      <td>56</td>\n",
       "      <td>services</td>\n",
       "      <td>married</td>\n",
       "      <td>high.school</td>\n",
       "      <td>no</td>\n",
       "      <td>no</td>\n",
       "      <td>yes</td>\n",
       "      <td>telephone</td>\n",
       "      <td>may</td>\n",
       "      <td>mon</td>\n",
       "      <td>...</td>\n",
       "      <td>1</td>\n",
       "      <td>999</td>\n",
       "      <td>0</td>\n",
       "      <td>nonexistent</td>\n",
       "      <td>1.1</td>\n",
       "      <td>93.994</td>\n",
       "      <td>-36.4</td>\n",
       "      <td>4.857</td>\n",
       "      <td>5191.0</td>\n",
       "      <td>no</td>\n",
       "    </tr>\n",
       "  </tbody>\n",
       "</table>\n",
       "<p>5 rows × 21 columns</p>\n",
       "</div>"
      ],
      "text/plain": [
       "   age        job  marital    education  default housing loan    contact  \\\n",
       "0   56  housemaid  married     basic.4y       no      no   no  telephone   \n",
       "1   57   services  married  high.school  unknown      no   no  telephone   \n",
       "2   37   services  married  high.school       no     yes   no  telephone   \n",
       "3   40     admin.  married     basic.6y       no      no   no  telephone   \n",
       "4   56   services  married  high.school       no      no  yes  telephone   \n",
       "\n",
       "  month day_of_week ...  campaign  pdays  previous     poutcome emp.var.rate  \\\n",
       "0   may         mon ...         1    999         0  nonexistent          1.1   \n",
       "1   may         mon ...         1    999         0  nonexistent          1.1   \n",
       "2   may         mon ...         1    999         0  nonexistent          1.1   \n",
       "3   may         mon ...         1    999         0  nonexistent          1.1   \n",
       "4   may         mon ...         1    999         0  nonexistent          1.1   \n",
       "\n",
       "   cons.price.idx  cons.conf.idx  euribor3m  nr.employed   y  \n",
       "0          93.994          -36.4      4.857       5191.0  no  \n",
       "1          93.994          -36.4      4.857       5191.0  no  \n",
       "2          93.994          -36.4      4.857       5191.0  no  \n",
       "3          93.994          -36.4      4.857       5191.0  no  \n",
       "4          93.994          -36.4      4.857       5191.0  no  \n",
       "\n",
       "[5 rows x 21 columns]"
      ]
     },
     "execution_count": 31,
     "metadata": {},
     "output_type": "execute_result"
    }
   ],
   "source": [
    "main_data.head()"
   ]
  },
  {
   "cell_type": "code",
   "execution_count": 20,
   "metadata": {
    "collapsed": false
   },
   "outputs": [
    {
     "data": {
      "text/plain": [
       "age               0\n",
       "job               0\n",
       "marital           0\n",
       "education         0\n",
       "default           0\n",
       "housing           0\n",
       "loan              0\n",
       "contact           0\n",
       "month             0\n",
       "day_of_week       0\n",
       "duration          0\n",
       "campaign          0\n",
       "pdays             0\n",
       "previous          0\n",
       "poutcome          0\n",
       "emp.var.rate      0\n",
       "cons.price.idx    0\n",
       "cons.conf.idx     0\n",
       "euribor3m         0\n",
       "nr.employed       0\n",
       "y                 0\n",
       "dtype: int64"
      ]
     },
     "execution_count": 20,
     "metadata": {},
     "output_type": "execute_result"
    }
   ],
   "source": [
    "main_data.isnull().sum()"
   ]
  },
  {
   "cell_type": "code",
   "execution_count": 22,
   "metadata": {
    "collapsed": false
   },
   "outputs": [
    {
     "data": {
      "text/plain": [
       "admin.           10422\n",
       "blue-collar       9254\n",
       "technician        6743\n",
       "services          3969\n",
       "management        2924\n",
       "retired           1720\n",
       "entrepreneur      1456\n",
       "self-employed     1421\n",
       "housemaid         1060\n",
       "unemployed        1014\n",
       "student            875\n",
       "unknown            330\n",
       "Name: job, dtype: int64"
      ]
     },
     "execution_count": 22,
     "metadata": {},
     "output_type": "execute_result"
    }
   ],
   "source": [
    "main_data.job.value_counts()\n",
    "#Most of the people do admin jobs"
   ]
  },
  {
   "cell_type": "code",
   "execution_count": 24,
   "metadata": {
    "collapsed": false
   },
   "outputs": [
    {
     "data": {
      "text/plain": [
       "married     0.605225\n",
       "single      0.280859\n",
       "divorced    0.111974\n",
       "unknown     0.001942\n",
       "Name: marital, dtype: float64"
      ]
     },
     "execution_count": 24,
     "metadata": {},
     "output_type": "execute_result"
    }
   ],
   "source": [
    "main_data.marital.value_counts(normalize=True)\n",
    "#We have majorly married customers"
   ]
  },
  {
   "cell_type": "code",
   "execution_count": 26,
   "metadata": {
    "collapsed": false
   },
   "outputs": [
    {
     "data": {
      "text/plain": [
       "university.degree      0.295426\n",
       "high.school            0.231014\n",
       "basic.9y               0.146766\n",
       "professional.course    0.127294\n",
       "basic.4y               0.101389\n",
       "basic.6y               0.055647\n",
       "unknown                0.042027\n",
       "illiterate             0.000437\n",
       "Name: education, dtype: float64"
      ]
     },
     "execution_count": 26,
     "metadata": {},
     "output_type": "execute_result"
    }
   ],
   "source": [
    "main_data.education.value_counts(normalize=True)\n",
    "# We have majorly university degree "
   ]
  },
  {
   "cell_type": "code",
   "execution_count": 32,
   "metadata": {
    "collapsed": false
   },
   "outputs": [
    {
     "data": {
      "text/plain": [
       "no         0.791201\n",
       "unknown    0.208726\n",
       "yes        0.000073\n",
       "Name: default, dtype: float64"
      ]
     },
     "execution_count": 32,
     "metadata": {},
     "output_type": "execute_result"
    }
   ],
   "source": [
    "main_data.default.value_counts(normalize=True)\n",
    "# we have very less percent of credit defaulters and majority of customers are on payers"
   ]
  },
  {
   "cell_type": "code",
   "execution_count": 34,
   "metadata": {
    "collapsed": false
   },
   "outputs": [
    {
     "data": {
      "text/plain": [
       "yes        0.523842\n",
       "no         0.452122\n",
       "unknown    0.024036\n",
       "Name: housing, dtype: float64"
      ]
     },
     "execution_count": 34,
     "metadata": {},
     "output_type": "execute_result"
    }
   ],
   "source": [
    "main_data.housing.value_counts(normalize=True)\n",
    "#more than half of the customers have hosuing loan"
   ]
  },
  {
   "cell_type": "code",
   "execution_count": 36,
   "metadata": {
    "collapsed": false
   },
   "outputs": [
    {
     "data": {
      "text/plain": [
       "no         0.824269\n",
       "yes        0.151695\n",
       "unknown    0.024036\n",
       "Name: loan, dtype: float64"
      ]
     },
     "execution_count": 36,
     "metadata": {},
     "output_type": "execute_result"
    }
   ],
   "source": [
    "main_data.loan.value_counts(normalize=True)\n",
    "#Majority of the people have not opted for personal loan"
   ]
  },
  {
   "cell_type": "code",
   "execution_count": 38,
   "metadata": {
    "collapsed": false
   },
   "outputs": [
    {
     "data": {
      "text/plain": [
       "cellular     26144\n",
       "telephone    15044\n",
       "Name: contact, dtype: int64"
      ]
     },
     "execution_count": 38,
     "metadata": {},
     "output_type": "execute_result"
    }
   ],
   "source": [
    "main_data.contact.value_counts()\n",
    "#Bank is connecting to the customers majorly on cellular phone"
   ]
  },
  {
   "cell_type": "markdown",
   "metadata": {},
   "source": []
  },
  {
   "cell_type": "code",
   "execution_count": 39,
   "metadata": {
    "collapsed": false
   },
   "outputs": [
    {
     "data": {
      "text/plain": [
       "may    13769\n",
       "jul     7174\n",
       "aug     6178\n",
       "jun     5318\n",
       "nov     4101\n",
       "apr     2632\n",
       "oct      718\n",
       "sep      570\n",
       "mar      546\n",
       "dec      182\n",
       "Name: month, dtype: int64"
      ]
     },
     "execution_count": 39,
     "metadata": {},
     "output_type": "execute_result"
    }
   ],
   "source": [
    "main_data.month.value_counts()\n",
    "#Bank contacted most of the customers in the month of May and very less in the month of December"
   ]
  },
  {
   "cell_type": "code",
   "execution_count": 40,
   "metadata": {
    "collapsed": false
   },
   "outputs": [
    {
     "data": {
      "text/plain": [
       "thu    8623\n",
       "mon    8514\n",
       "wed    8134\n",
       "tue    8090\n",
       "fri    7827\n",
       "Name: day_of_week, dtype: int64"
      ]
     },
     "execution_count": 40,
     "metadata": {},
     "output_type": "execute_result"
    }
   ],
   "source": [
    "main_data.day_of_week.value_counts()\n",
    "#As bank is able to reach customers almost all the days of the week but majorly thursday they are reaching maximum number of customers"
   ]
  },
  {
   "cell_type": "code",
   "execution_count": 51,
   "metadata": {
    "collapsed": false
   },
   "outputs": [
    {
     "data": {
      "text/html": [
       "<div>\n",
       "<table border=\"1\" class=\"dataframe\">\n",
       "  <thead>\n",
       "    <tr style=\"text-align: right;\">\n",
       "      <th>duration</th>\n",
       "      <th>0</th>\n",
       "      <th>1</th>\n",
       "      <th>2</th>\n",
       "      <th>3</th>\n",
       "      <th>4</th>\n",
       "      <th>5</th>\n",
       "      <th>6</th>\n",
       "      <th>7</th>\n",
       "      <th>8</th>\n",
       "      <th>9</th>\n",
       "      <th>...</th>\n",
       "      <th>3284</th>\n",
       "      <th>3322</th>\n",
       "      <th>3366</th>\n",
       "      <th>3422</th>\n",
       "      <th>3509</th>\n",
       "      <th>3631</th>\n",
       "      <th>3643</th>\n",
       "      <th>3785</th>\n",
       "      <th>4199</th>\n",
       "      <th>4918</th>\n",
       "    </tr>\n",
       "    <tr>\n",
       "      <th>y</th>\n",
       "      <th></th>\n",
       "      <th></th>\n",
       "      <th></th>\n",
       "      <th></th>\n",
       "      <th></th>\n",
       "      <th></th>\n",
       "      <th></th>\n",
       "      <th></th>\n",
       "      <th></th>\n",
       "      <th></th>\n",
       "      <th></th>\n",
       "      <th></th>\n",
       "      <th></th>\n",
       "      <th></th>\n",
       "      <th></th>\n",
       "      <th></th>\n",
       "      <th></th>\n",
       "      <th></th>\n",
       "      <th></th>\n",
       "      <th></th>\n",
       "      <th></th>\n",
       "    </tr>\n",
       "  </thead>\n",
       "  <tbody>\n",
       "    <tr>\n",
       "      <th>no</th>\n",
       "      <td>4</td>\n",
       "      <td>3</td>\n",
       "      <td>1</td>\n",
       "      <td>3</td>\n",
       "      <td>12</td>\n",
       "      <td>30</td>\n",
       "      <td>37</td>\n",
       "      <td>54</td>\n",
       "      <td>69</td>\n",
       "      <td>77</td>\n",
       "      <td>...</td>\n",
       "      <td>1</td>\n",
       "      <td>1</td>\n",
       "      <td>1</td>\n",
       "      <td>1</td>\n",
       "      <td>1</td>\n",
       "      <td>0</td>\n",
       "      <td>0</td>\n",
       "      <td>1</td>\n",
       "      <td>0</td>\n",
       "      <td>1</td>\n",
       "    </tr>\n",
       "    <tr>\n",
       "      <th>yes</th>\n",
       "      <td>0</td>\n",
       "      <td>0</td>\n",
       "      <td>0</td>\n",
       "      <td>0</td>\n",
       "      <td>0</td>\n",
       "      <td>0</td>\n",
       "      <td>0</td>\n",
       "      <td>0</td>\n",
       "      <td>0</td>\n",
       "      <td>0</td>\n",
       "      <td>...</td>\n",
       "      <td>0</td>\n",
       "      <td>0</td>\n",
       "      <td>0</td>\n",
       "      <td>0</td>\n",
       "      <td>0</td>\n",
       "      <td>1</td>\n",
       "      <td>1</td>\n",
       "      <td>0</td>\n",
       "      <td>1</td>\n",
       "      <td>0</td>\n",
       "    </tr>\n",
       "  </tbody>\n",
       "</table>\n",
       "<p>2 rows × 1544 columns</p>\n",
       "</div>"
      ],
      "text/plain": [
       "duration  0     1     2     3     4     5     6     7     8     9     ...   \\\n",
       "y                                                                     ...    \n",
       "no           4     3     1     3    12    30    37    54    69    77  ...    \n",
       "yes          0     0     0     0     0     0     0     0     0     0  ...    \n",
       "\n",
       "duration  3284  3322  3366  3422  3509  3631  3643  3785  4199  4918  \n",
       "y                                                                     \n",
       "no           1     1     1     1     1     0     0     1     0     1  \n",
       "yes          0     0     0     0     0     1     1     0     1     0  \n",
       "\n",
       "[2 rows x 1544 columns]"
      ]
     },
     "execution_count": 51,
     "metadata": {},
     "output_type": "execute_result"
    }
   ],
   "source": [
    "pd.crosstab(main_data.y,main_data.duration)\n",
    "#I assume that customers whose call duration is high have more likely chances of subscription"
   ]
  },
  {
   "cell_type": "code",
   "execution_count": 57,
   "metadata": {
    "collapsed": false
   },
   "outputs": [
    {
     "data": {
      "text/plain": [
       "1     17642\n",
       "2     10570\n",
       "3      5341\n",
       "4      2651\n",
       "5      1599\n",
       "6       979\n",
       "7       629\n",
       "8       400\n",
       "9       283\n",
       "10      225\n",
       "11      177\n",
       "12      125\n",
       "13       92\n",
       "14       69\n",
       "17       58\n",
       "15       51\n",
       "16       51\n",
       "18       33\n",
       "20       30\n",
       "19       26\n",
       "21       24\n",
       "22       17\n",
       "23       16\n",
       "24       15\n",
       "27       11\n",
       "29       10\n",
       "25        8\n",
       "26        8\n",
       "28        8\n",
       "30        7\n",
       "31        7\n",
       "35        5\n",
       "33        4\n",
       "32        4\n",
       "34        3\n",
       "40        2\n",
       "42        2\n",
       "43        2\n",
       "37        1\n",
       "39        1\n",
       "41        1\n",
       "56        1\n",
       "Name: campaign, dtype: int64"
      ]
     },
     "execution_count": 57,
     "metadata": {},
     "output_type": "execute_result"
    }
   ],
   "source": [
    "main_data.campaign.value_counts()\n",
    "#main_data.campaign.head()\n",
    "# So we contacted maximum number of customers on first campaign and count is gradually coming down with further campaigns"
   ]
  },
  {
   "cell_type": "code",
   "execution_count": 58,
   "metadata": {
    "collapsed": false
   },
   "outputs": [
    {
     "data": {
      "text/plain": [
       "999    39673\n",
       "3        439\n",
       "6        412\n",
       "4        118\n",
       "9         64\n",
       "2         61\n",
       "7         60\n",
       "12        58\n",
       "10        52\n",
       "5         46\n",
       "13        36\n",
       "11        28\n",
       "1         26\n",
       "15        24\n",
       "14        20\n",
       "8         18\n",
       "0         15\n",
       "16        11\n",
       "17         8\n",
       "18         7\n",
       "19         3\n",
       "22         3\n",
       "21         2\n",
       "26         1\n",
       "20         1\n",
       "25         1\n",
       "27         1\n",
       "Name: pdays, dtype: int64"
      ]
     },
     "execution_count": 58,
     "metadata": {},
     "output_type": "execute_result"
    }
   ],
   "source": [
    "main_data.pdays.value_counts()\n",
    "# We have many customers whom we never contacted"
   ]
  },
  {
   "cell_type": "code",
   "execution_count": 59,
   "metadata": {
    "collapsed": false
   },
   "outputs": [
    {
     "data": {
      "text/plain": [
       "0    35563\n",
       "1     4561\n",
       "2      754\n",
       "3      216\n",
       "4       70\n",
       "5       18\n",
       "6        5\n",
       "7        1\n",
       "Name: previous, dtype: int64"
      ]
     },
     "execution_count": 59,
     "metadata": {},
     "output_type": "execute_result"
    }
   ],
   "source": [
    "main_data.previous.value_counts()\n",
    "# As we have majority of customers who never participated in any of the campaign"
   ]
  },
  {
   "cell_type": "code",
   "execution_count": 60,
   "metadata": {
    "collapsed": false
   },
   "outputs": [
    {
     "data": {
      "text/plain": [
       "nonexistent    35563\n",
       "failure         4252\n",
       "success         1373\n",
       "Name: poutcome, dtype: int64"
      ]
     },
     "execution_count": 60,
     "metadata": {},
     "output_type": "execute_result"
    }
   ],
   "source": [
    "main_data.poutcome.value_counts()\n",
    "# We have more failures in campaigns than success rate and majority of them are nonexistent "
   ]
  },
  {
   "cell_type": "code",
   "execution_count": 69,
   "metadata": {
    "collapsed": false
   },
   "outputs": [],
   "source": [
    "main_data.rename(columns={'emp.var.rate': 'emp_var_rate', 'cons.price.idx':'cons_price_idx',\n",
    "'cons.conf.idx' : 'cons_conf_idx','nr.employed' : 'nr_employed'}, inplace=True)"
   ]
  },
  {
   "cell_type": "code",
   "execution_count": 65,
   "metadata": {
    "collapsed": false
   },
   "outputs": [
    {
     "data": {
      "text/plain": [
       " 1.4    16234\n",
       "-1.8     9184\n",
       " 1.1     7763\n",
       "-0.1     3683\n",
       "-2.9     1663\n",
       "-3.4     1071\n",
       "-1.7      773\n",
       "-1.1      635\n",
       "-3.0      172\n",
       "-0.2       10\n",
       "Name: emp_var_rate, dtype: int64"
      ]
     },
     "execution_count": 65,
     "metadata": {},
     "output_type": "execute_result"
    }
   ],
   "source": [
    "main_data.emp_var_rate.value_counts()\n",
    "# employement variation rate"
   ]
  },
  {
   "cell_type": "code",
   "execution_count": 66,
   "metadata": {
    "collapsed": false
   },
   "outputs": [
    {
     "data": {
      "text/plain": [
       "93.994    7763\n",
       "93.918    6685\n",
       "92.893    5794\n",
       "93.444    5175\n",
       "94.465    4374\n",
       "93.200    3616\n",
       "93.075    2458\n",
       "92.201     770\n",
       "92.963     715\n",
       "92.431     447\n",
       "92.649     357\n",
       "94.215     311\n",
       "94.199     303\n",
       "92.843     282\n",
       "92.379     267\n",
       "93.369     264\n",
       "94.027     233\n",
       "94.055     229\n",
       "93.876     212\n",
       "94.601     204\n",
       "92.469     178\n",
       "93.749     174\n",
       "92.713     172\n",
       "94.767     128\n",
       "93.798      67\n",
       "92.756      10\n",
       "Name: cons_price_idx, dtype: int64"
      ]
     },
     "execution_count": 66,
     "metadata": {},
     "output_type": "execute_result"
    }
   ],
   "source": [
    "main_data.cons_price_idx.value_counts()\n",
    "# Consumer price index is high with majority of the customers"
   ]
  },
  {
   "cell_type": "code",
   "execution_count": 67,
   "metadata": {
    "collapsed": false
   },
   "outputs": [
    {
     "data": {
      "text/plain": [
       "93.994    7763\n",
       "93.918    6685\n",
       "92.893    5794\n",
       "93.444    5175\n",
       "94.465    4374\n",
       "93.200    3616\n",
       "93.075    2458\n",
       "92.201     770\n",
       "92.963     715\n",
       "92.431     447\n",
       "92.649     357\n",
       "94.215     311\n",
       "94.199     303\n",
       "92.843     282\n",
       "92.379     267\n",
       "93.369     264\n",
       "94.027     233\n",
       "94.055     229\n",
       "93.876     212\n",
       "94.601     204\n",
       "92.469     178\n",
       "93.749     174\n",
       "92.713     172\n",
       "94.767     128\n",
       "93.798      67\n",
       "92.756      10\n",
       "Name: cons_price_idx, dtype: int64"
      ]
     },
     "execution_count": 67,
     "metadata": {},
     "output_type": "execute_result"
    }
   ],
   "source": [
    "main_data.cons_price_idx.value_counts()\n",
    "#consumer confidence index"
   ]
  },
  {
   "cell_type": "code",
   "execution_count": 68,
   "metadata": {
    "collapsed": false
   },
   "outputs": [
    {
     "data": {
      "text/plain": [
       "4.857    2868\n",
       "4.962    2613\n",
       "4.963    2487\n",
       "4.961    1902\n",
       "4.856    1210\n",
       "4.964    1175\n",
       "1.405    1169\n",
       "4.965    1071\n",
       "4.864    1044\n",
       "4.960    1013\n",
       "4.968     992\n",
       "4.959     895\n",
       "4.860     892\n",
       "4.855     840\n",
       "4.076     822\n",
       "1.266     820\n",
       "4.859     788\n",
       "4.120     756\n",
       "4.858     733\n",
       "4.153     690\n",
       "4.021     676\n",
       "4.967     643\n",
       "1.281     637\n",
       "4.966     622\n",
       "4.191     610\n",
       "1.250     587\n",
       "4.958     581\n",
       "1.291     544\n",
       "1.327     538\n",
       "4.957     537\n",
       "         ... \n",
       "4.474       3\n",
       "0.894       3\n",
       "0.944       3\n",
       "1.778       3\n",
       "4.921       3\n",
       "0.927       2\n",
       "0.953       2\n",
       "0.937       2\n",
       "0.749       2\n",
       "0.921       2\n",
       "3.879       2\n",
       "4.733       2\n",
       "3.563       2\n",
       "1.574       1\n",
       "0.956       1\n",
       "3.282       1\n",
       "0.996       1\n",
       "3.488       1\n",
       "3.816       1\n",
       "3.329       1\n",
       "3.901       1\n",
       "0.933       1\n",
       "3.743       1\n",
       "0.969       1\n",
       "3.669       1\n",
       "1.045       1\n",
       "3.853       1\n",
       "1.047       1\n",
       "3.053       1\n",
       "3.428       1\n",
       "Name: euribor3m, dtype: int64"
      ]
     },
     "execution_count": 68,
     "metadata": {},
     "output_type": "execute_result"
    }
   ],
   "source": [
    "main_data.euribor3m.value_counts()\n",
    "# it's a three month rate "
   ]
  },
  {
   "cell_type": "code",
   "execution_count": 70,
   "metadata": {
    "collapsed": false
   },
   "outputs": [
    {
     "data": {
      "text/plain": [
       "5228.1    16234\n",
       "5099.1     8534\n",
       "5191.0     7763\n",
       "5195.8     3683\n",
       "5076.2     1663\n",
       "5017.5     1071\n",
       "4991.6      773\n",
       "5008.7      650\n",
       "4963.6      635\n",
       "5023.5      172\n",
       "5176.3       10\n",
       "Name: nr_employed, dtype: int64"
      ]
     },
     "execution_count": 70,
     "metadata": {},
     "output_type": "execute_result"
    }
   ],
   "source": [
    "main_data.nr_employed.value_counts()\n",
    "#This gives us no.of employees quaterly employed "
   ]
  },
  {
   "cell_type": "code",
   "execution_count": 72,
   "metadata": {
    "collapsed": true
   },
   "outputs": [],
   "source": [
    "data = main_data"
   ]
  },
  {
   "cell_type": "code",
   "execution_count": 73,
   "metadata": {
    "collapsed": true
   },
   "outputs": [],
   "source": [
    "data.columns\n",
    "for i in data.columns:\n",
    "    if data[i].dtype == 'object':\n",
    "        le.fit(data[i])\n",
    "        data[i] = le.transform(data[i])"
   ]
  },
  {
   "cell_type": "code",
   "execution_count": 74,
   "metadata": {
    "collapsed": false
   },
   "outputs": [
    {
     "data": {
      "text/plain": [
       "Index([u'age', u'job', u'marital', u'education', u'default', u'housing',\n",
       "       u'loan', u'contact', u'month', u'day_of_week', u'duration', u'campaign',\n",
       "       u'pdays', u'previous', u'poutcome', u'emp_var_rate', u'cons_price_idx',\n",
       "       u'cons_conf_idx', u'euribor3m', u'nr_employed', u'y'],\n",
       "      dtype='object')"
      ]
     },
     "execution_count": 74,
     "metadata": {},
     "output_type": "execute_result"
    }
   ],
   "source": [
    "data.columns"
   ]
  },
  {
   "cell_type": "code",
   "execution_count": null,
   "metadata": {
    "collapsed": true
   },
   "outputs": [],
   "source": []
  },
  {
   "cell_type": "code",
   "execution_count": 110,
   "metadata": {
    "collapsed": false
   },
   "outputs": [],
   "source": [
    "X = data[['age','job','marital','education','default','housing','loan','contact','month','day_of_week','duration','campaign',\n",
    "        'pdays','poutcome','cons_price_idx',\n",
    "       'cons_conf_idx','euribor3m','nr_employed']]\n",
    "y = data.y\n",
    "X_train,X_test,y_train,y_test = train_test_split(X,y,test_size=0.2,random_state=0)"
   ]
  },
  {
   "cell_type": "code",
   "execution_count": 153,
   "metadata": {
    "collapsed": false
   },
   "outputs": [
    {
     "name": "stdout",
     "output_type": "stream",
     "text": [
      "DecisionTreeClassifier(class_weight=None, criterion='entropy', max_depth=9,\n",
      "            max_features=None, max_leaf_nodes=None, min_samples_leaf=1,\n",
      "            min_samples_split=20, min_weight_fraction_leaf=0.0,\n",
      "            presort=False, random_state=None, splitter='best')\n"
     ]
    }
   ],
   "source": [
    "# max_depth can be controlled for pruning\n",
    "model = DecisionTreeClassifier(criterion = 'entropy',min_samples_split=20, max_depth=9)\n",
    "model = model.fit(X_train,y_train)\n",
    "print(model)\n",
    "Y_test = model.predict(X_test)"
   ]
  },
  {
   "cell_type": "code",
   "execution_count": 154,
   "metadata": {
    "collapsed": true
   },
   "outputs": [],
   "source": [
    "import pickle\n",
    "with open('DecisionTrees.pickle','wb') as f:\n",
    "    pickle.dump(model,f)"
   ]
  },
  {
   "cell_type": "code",
   "execution_count": 155,
   "metadata": {
    "collapsed": true
   },
   "outputs": [],
   "source": [
    "pickle_in = open('DecisionTrees.pickle','rb')\n",
    "model = pickle.load(pickle_in)"
   ]
  },
  {
   "cell_type": "code",
   "execution_count": 156,
   "metadata": {
    "collapsed": false
   },
   "outputs": [
    {
     "name": "stdout",
     "output_type": "stream",
     "text": [
      "                Importance\n",
      "age               0.020919\n",
      "job               0.006715\n",
      "marital           0.001895\n",
      "education         0.007085\n",
      "default           0.001904\n",
      "housing           0.002178\n",
      "loan              0.000761\n",
      "contact           0.002139\n",
      "month             0.021813\n",
      "day_of_week       0.015086\n",
      "duration          0.467882\n",
      "campaign          0.007742\n",
      "pdays             0.025303\n",
      "poutcome          0.002754\n",
      "cons_price_idx    0.015601\n",
      "cons_conf_idx     0.078739\n",
      "euribor3m         0.058388\n",
      "nr_employed       0.263096\n"
     ]
    }
   ],
   "source": [
    "print(pd.DataFrame(model.feature_importances_,columns = ['Importance'],index = X_train.columns))\n",
    "#Duration of the call and no.of customers quaterly employeed are two most significant variables for our model prediction"
   ]
  },
  {
   "cell_type": "code",
   "execution_count": 157,
   "metadata": {
    "collapsed": false
   },
   "outputs": [
    {
     "name": "stdout",
     "output_type": "stream",
     "text": [
      "[[7038  281]\n",
      " [ 403  516]]\n",
      "             precision    recall  f1-score   support\n",
      "\n",
      "          0       0.95      0.96      0.95      7319\n",
      "          1       0.65      0.56      0.60       919\n",
      "\n",
      "avg / total       0.91      0.92      0.91      8238\n",
      "\n",
      "0.916970138383\n"
     ]
    }
   ],
   "source": [
    "from sklearn import metrics\n",
    "# Confusion Matrix\n",
    "print(metrics.confusion_matrix(y_test, Y_test))\n",
    "print(metrics.classification_report(y_test, Y_test))\n",
    "print(metrics.accuracy_score(y_test, Y_test))"
   ]
  },
  {
   "cell_type": "code",
   "execution_count": 158,
   "metadata": {
    "collapsed": false
   },
   "outputs": [
    {
     "name": "stdout",
     "output_type": "stream",
     "text": [
      "Mean Absolute Error: 0.0830298616169\n",
      "Mean Squared Error: 0.0830298616169\n",
      "R - Squared value: 0.162257341149\n",
      "What percent of predictions are same: 0.916970138383\n"
     ]
    }
   ],
   "source": [
    "from sklearn.metrics import explained_variance_score, mean_absolute_error, mean_squared_error, r2_score, jaccard_similarity_score, roc_auc_score\n",
    "\n",
    "#ev = explained_variance_score(y_test, Y_test, multioutput='uniform_average')\n",
    "# Best possible score is 1.0, lower values are worse.\n",
    "#print(\"Explained Variance Score: {}\". format(ev))\n",
    "\n",
    "mae = mean_absolute_error(y_test, Y_test, multioutput='uniform_average')\n",
    "# MAE output is non-negative floating point. The best value is 0.0.\n",
    "print(\"Mean Absolute Error: {}\".format(mae))\n",
    "\n",
    "mse = mean_squared_error(y_test, Y_test, multioutput='uniform_average')\n",
    "# MAE output is non-negative floating point. The best value is 0.0.\n",
    "print(\"Mean Squared Error: {}\".format(mse))\n",
    "\n",
    "r2 = r2_score(y_test, Y_test)\n",
    "# R^2 (coefficient of determination) regression score function.\n",
    "# Best possible score is 1.0 and it can be negative (because the model can be arbitrarily worse). A constant model that always \n",
    "# predicts the expected value of y, disregarding the input features, would get a R^2 score of 0.0.\n",
    "print(\"R - Squared value: {}\".format(r2))\n",
    "\n",
    "print('What percent of predictions are same: {}'.format(jaccard_similarity_score(y_test, Y_test)))"
   ]
  },
  {
   "cell_type": "code",
   "execution_count": null,
   "metadata": {
    "collapsed": true
   },
   "outputs": [],
   "source": []
  },
  {
   "cell_type": "code",
   "execution_count": null,
   "metadata": {
    "collapsed": true
   },
   "outputs": [],
   "source": []
  }
 ],
 "metadata": {
  "kernelspec": {
   "display_name": "Python 2",
   "language": "python",
   "name": "python2"
  },
  "language_info": {
   "codemirror_mode": {
    "name": "ipython",
    "version": 2
   },
   "file_extension": ".py",
   "mimetype": "text/x-python",
   "name": "python",
   "nbconvert_exporter": "python",
   "pygments_lexer": "ipython2",
   "version": "2.7.11"
  }
 },
 "nbformat": 4,
 "nbformat_minor": 0
}
